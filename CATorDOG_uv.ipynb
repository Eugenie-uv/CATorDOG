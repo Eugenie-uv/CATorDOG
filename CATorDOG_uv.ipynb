{
 "cells": [
  {
   "cell_type": "markdown",
   "metadata": {},
   "source": [
    "## Cat or Dog\n",
    "#### 1\n",
    "[Cats And Dogs Classifier | Convolutional Neural Network with Python and Tensorflow (9 steps of Building)](https://medium.com/@harsathAI/cats-and-dogs-classifier-convolutional-neural-network-with-python-and-tensorflow-9-steps-of-6259c92802f3)  \n",
    "\n",
    "https://github.com/harsathAI/Cats-Vs-Dogs-Image-Classifier/blob/master/Cats%20vs%20Dogs%20Classifier.ipynb  \n",
    "#### 2\n",
    "[Building powerful image classification models using very little data](https://blog.keras.io/building-powerful-image-classification-models-using-very-little-data.html)  \n",
    "https://gist.github.com/fchollet/0830affa1f7f19fd47b06d4cf89ed44d  \n",
    "\n",
    "#### dataset  \n",
    "https://www.kaggle.com/c/dogs-vs-cats\n",
    "    "
   ]
  },
  {
   "cell_type": "code",
   "execution_count": 1,
   "metadata": {},
   "outputs": [
    {
     "name": "stderr",
     "output_type": "stream",
     "text": [
      "/Users/weiyou/anaconda3/lib/python3.6/site-packages/h5py/__init__.py:36: FutureWarning: Conversion of the second argument of issubdtype from `float` to `np.floating` is deprecated. In future, it will be treated as `np.float64 == np.dtype(float).type`.\n",
      "  from ._conv import register_converters as _register_converters\n",
      "Using TensorFlow backend.\n"
     ]
    }
   ],
   "source": [
    "from keras.preprocessing.image import ImageDataGenerator\n",
    "from keras.models import Sequential\n",
    "from keras.layers import Conv2D, MaxPooling2D, Activation, Dropout, Flatten, Dense\n",
    "from keras.optimizers import RMSprop\n",
    "from keras.callbacks import CSVLogger\n",
    "from keras import backend as K\n",
    "\n",
    "from livelossplot import PlotLossesKeras\n",
    "\n",
    "%matplotlib inline\n",
    "import matplotlib.pyplot as plt\n",
    "import matplotlib.image as mpimg"
   ]
  },
  {
   "cell_type": "code",
   "execution_count": 2,
   "metadata": {},
   "outputs": [],
   "source": [
    "#install pacakage in jupyter notobook\n",
    "# !pip3 install livelossplot \n",
    "# !pip3 install neptune-cli"
   ]
  },
  {
   "cell_type": "code",
   "execution_count": 3,
   "metadata": {},
   "outputs": [],
   "source": [
    "# file to save\n",
    "Training_logs_file = \"training_logs.csv\"\n",
    "Model_summary_file = \"model_summary.txt\"\n",
    "Test_file = \"test_file.txt\"\n",
    "Model_file = \"model.h5\""
   ]
  },
  {
   "cell_type": "code",
   "execution_count": 4,
   "metadata": {},
   "outputs": [],
   "source": [
    "# Data file path\n",
    "train_data_dir = 'data/train' # 1000*2\n",
    "valid_data_dir = 'data/valid' # 400*2\n",
    "test_data_dir = 'data/test'   # 50*2\n",
    "\n",
    "# Hyper parameters\n",
    "img_width, img_height = 150, 150 # demensions of our images\n",
    "nb_train_samples = 2000\n",
    "nb_valid_samples = 800 # number of sample in valid dataset\n",
    "nb_test_samples = 100\n",
    "epochs = 5\n",
    "batch_size = 16\n",
    "\n",
    "if K.image_data_format() == \"channels_first\": # to tell the format of the data\n",
    "    input_shape = (3, img_width, img_height)\n",
    "else:\n",
    "    input_shape = (img_width, img_height, 3)\n"
   ]
  },
  {
   "cell_type": "code",
   "execution_count": 5,
   "metadata": {},
   "outputs": [],
   "source": [
    "# build the model\n",
    "model = Sequential()\n",
    "\n",
    "model.add(Conv2D(32, (3,3), input_shape=input_shape))\n",
    "model.add(Activation('relu'))\n",
    "model.add(MaxPooling2D(pool_size=(2,2)))\n",
    "\n",
    "model.add(Conv2D(32, (3,3)))\n",
    "model.add(Activation('relu'))\n",
    "model.add(MaxPooling2D(pool_size=(2,2)))\n",
    "\n",
    "model.add(Conv2D(63, (3,3)))\n",
    "model.add(Activation('relu'))\n",
    "model.add(MaxPooling2D(pool_size=(2,2)))\n",
    "\n",
    "model.add(Flatten())\n",
    "model.add(Dense(64))\n",
    "model.add(Activation('relu'))\n",
    "model.add(Dropout(0.5))\n",
    "model.add(Dense(1)) # output is one class either cat or dog\n",
    "model.add(Activation('sigmoid')) #'softmax'"
   ]
  },
  {
   "cell_type": "code",
   "execution_count": 6,
   "metadata": {},
   "outputs": [],
   "source": [
    "model.compile(loss='binary_crossentropy', #'categorical_crossentropy'\n",
    "              optimizer=RMSprop(lr=0.0001), #'rmsprop' 'Adam'\n",
    "              metrics=['accuracy'])"
   ]
  },
  {
   "cell_type": "code",
   "execution_count": 7,
   "metadata": {},
   "outputs": [],
   "source": [
    "# save model summary\n",
    "with open(Model_summary_file, \"w\") as f:\n",
    "    model.summary(print_fn = lambda line: f.write(line + \"\\n\"))"
   ]
  },
  {
   "cell_type": "code",
   "execution_count": 8,
   "metadata": {},
   "outputs": [
    {
     "name": "stdout",
     "output_type": "stream",
     "text": [
      "Found 2000 images belonging to 2 classes.\n",
      "Found 800 images belonging to 2 classes.\n",
      "Found 0 images belonging to 0 classes.\n"
     ]
    }
   ],
   "source": [
    "# data augmentation configuration\n",
    "# ?\n",
    "train_datagen = ImageDataGenerator(\n",
    "    rescale=1. / 255, \n",
    "    shear_range=0.2, \n",
    "    zoom_range=0.2, \n",
    "    horizontal_flip=True)\n",
    "\n",
    "valid_datagen = ImageDataGenerator(rescale=1. / 255)\n",
    "test_datagen = ImageDataGenerator(rescale=1. / 255)\n",
    "\n",
    "# data generator/preparation\n",
    "# ?\n",
    "train_generator = train_datagen.flow_from_directory(\n",
    "    train_data_dir,\n",
    "    target_size=(img_width, img_height),\n",
    "    batch_size=batch_size,\n",
    "    class_mode='binary')\n",
    "\n",
    "valid_generator = valid_datagen.flow_from_directory(\n",
    "    valid_data_dir,\n",
    "    target_size=(img_width, img_height),\n",
    "    batch_size=batch_size,\n",
    "    class_mode='binary')\n",
    "\n",
    "test_generator = test_datagen.flow_from_directory(\n",
    "    test_data_dir,\n",
    "    target_size=(img_width, img_height),\n",
    "    batch_size=1,  #test don't need bach split\n",
    "    class_mode='binary',\n",
    "    shuffle=False)"
   ]
  },
  {
   "cell_type": "code",
   "execution_count": null,
   "metadata": {},
   "outputs": [
    {
     "data": {
      "image/png": "[encoded data removed]",
      "text/plain": [
       "<Figure size 864x576 with 2 Axes>"
      ]
     },
     "metadata": {},
     "output_type": "display_data"
    },
    {
     "name": "stdout",
     "output_type": "stream",
     "text": [
      "Log-loss (cost function):\n",
      "training   (min:    0.694, max:    0.694, cur:    0.694)\n",
      "validation (min:    0.689, max:    0.689, cur:    0.689)\n",
      "\n",
      "Accuracy:\n",
      "training   (min:    0.510, max:    0.510, cur:    0.510)\n",
      "validation (min:    0.500, max:    0.500, cur:    0.500)\n",
      "Epoch 2/5\n",
      " 91/125 [====================>.........] - ETA: 16s - loss: 0.6842 - acc: 0.5515"
     ]
    }
   ],
   "source": [
    "# Training\n",
    "# when use generator, can use .fit_generator instead of .fit\n",
    "# 使用 Python 生成器或 Sequence 实例逐批生成的数据，按批次训练模型。\n",
    "\n",
    "history = model.fit_generator(\n",
    "    train_generator,\n",
    "    #steps_per_epoch = nb_train_samples // batch_size,\n",
    "    steps_per_epoch = len(train_generator.filenames) // batch_size,\n",
    "    epochs = epochs,\n",
    "    validation_data = valid_generator,\n",
    "    #validation_steps = nb_valid_samples // batch_size,\n",
    "    validation_steps = len(valid_generator.filenames) // batch_size,\n",
    "    callbacks = [PlotLossesKeras(), \n",
    "                 CSVLogger(Training_logs_file, append=False, separator=\";\")],\n",
    "    verbose = 1)\n",
    "\n",
    "model.save_weights(Model_file)#'first_try.h5') # save model weights\n",
    "# save model\n",
    "# model.save(MODEL_1)"
   ]
  },
  {
   "cell_type": "code",
   "execution_count": null,
   "metadata": {},
   "outputs": [],
   "source": [
    "# Testing\n",
    "open(Test_file, \"w\")\n",
    "probabilities = model.predict_generator(test_generator, len(test_generator.filenames))#\n",
    "for index, probability in enumerate(probabilities):\n",
    "    image_path = test_data_dir + \"/\" + test_generator.filenames[index]\n",
    "    img = mpimg.imread(image_path)\n",
    "    with open(Test_file, \"a\") as f:\n",
    "        f.write(str(probability[0]) + \" for：\" + image_path + \"\\n\")\n",
    "    plt.imshow(img)\n",
    "    if probability > 0.5:\n",
    "        plt.title(\"%.2f\" % (probability[0]*100) + \"% dog\")\n",
    "    else:\n",
    "        plt.title(\"%.2f\" % ((1-probability[0])*100) + \"% cat\")\n",
    "    plt.show()\n"
   ]
  },
  {
   "cell_type": "code",
   "execution_count": null,
   "metadata": {},
   "outputs": [],
   "source": [
    "# Visulazation\n",
    "#from keras.utils import plot_model\n",
    "#plot_model(model, to_file='model.png')\n",
    "\n",
    "# plot training & validation accuracy curves\n",
    "plt.plot(history.history['acc'])\n",
    "plt.plot(history.history['val_acc'])\n",
    "plt.title('Model accuracy')\n",
    "plt.xlabel('Epoch')\n",
    "plt.ylabel('Accuracy')\n",
    "plt.legend(['Train', 'Valid'], loc='upper left')\n",
    "plt.show()\n",
    "\n",
    "# plot training & validation loss curves\n",
    "plt.plot(history.history['loss'])\n",
    "plt.plot(history.history['val_loss'])\n",
    "plt.title('Model loss')\n",
    "plt.xlabel('Epoch')\n",
    "plt.ylabel('Loss')\n",
    "plt.legend(['Train', 'Valid'], loc='upper left')\n",
    "plt.show()"
   ]
  },
  {
   "cell_type": "code",
   "execution_count": null,
   "metadata": {},
   "outputs": [],
   "source": [
    "# from keras.preprocessing import image\n",
    "# kitty = image.load_img('kitty.jpg', target_size=input_shape)\n",
    "# print(type(kitty))\n",
    "# plt.imshow(kitty)\n",
    "# plt.show()\n",
    "\n",
    "# kitty_ = image.img_to_array(kitty)\n",
    "# print(type(kitty_))\n",
    "# print(kitty_.shape)\n",
    "# plt.imshow(kitty_)\n",
    "# plt.show()\n",
    "\n",
    "# model.predict(kitty_, batch_size=None, verbose=0, steps=None)"
   ]
  }
 ],
 "metadata": {
  "kernelspec": {
   "display_name": "Python 3",
   "language": "python",
   "name": "python3"
  },
  "language_info": {
   "codemirror_mode": {
    "name": "ipython",
    "version": 3
   },
   "file_extension": ".py",
   "mimetype": "text/x-python",
   "name": "python",
   "nbconvert_exporter": "python",
   "pygments_lexer": "ipython3",
   "version": "3.6.5"
  },
  "toc": {
   "base_numbering": 1,
   "nav_menu": {},
   "number_sections": true,
   "sideBar": true,
   "skip_h1_title": false,
   "title_cell": "Table of Contents",
   "title_sidebar": "Contents",
   "toc_cell": false,
   "toc_position": {},
   "toc_section_display": true,
   "toc_window_display": false
  },
  "varInspector": {
   "cols": {
    "lenName": 16,
    "lenType": 16,
    "lenVar": 40
   },
   "kernels_config": {
    "python": {
     "delete_cmd_postfix": "",
     "delete_cmd_prefix": "del ",
     "library": "var_list.py",
     "varRefreshCmd": "print(var_dic_list())"
    },
    "r": {
     "delete_cmd_postfix": ") ",
     "delete_cmd_prefix": "rm(",
     "library": "var_list.r",
     "varRefreshCmd": "cat(var_dic_list()) "
    }
   },
   "types_to_exclude": [
    "module",
    "function",
    "builtin_function_or_method",
    "instance",
    "_Feature"
   ],
   "window_display": false
  }
 },
 "nbformat": 4,
 "nbformat_minor": 2
}
